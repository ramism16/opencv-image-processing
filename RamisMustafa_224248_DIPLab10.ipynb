{
  "nbformat": 4,
  "nbformat_minor": 0,
  "metadata": {
    "colab": {
      "name": "RamisMustafa_224248_DIPLab10.ipynb",
      "provenance": [],
      "collapsed_sections": [],
      "include_colab_link": true
    },
    "kernelspec": {
      "name": "python3",
      "display_name": "Python 3"
    }
  },
  "cells": [
    {
      "cell_type": "markdown",
      "metadata": {
        "id": "view-in-github",
        "colab_type": "text"
      },
      "source": [
        "<a href=\"https://colab.research.google.com/github/ramism16/opencv-image-processing/blob/master/RamisMustafa_224248_DIPLab10.ipynb\" target=\"_parent\"><img src=\"https://colab.research.google.com/assets/colab-badge.svg\" alt=\"Open In Colab\"/></a>"
      ]
    },
    {
      "cell_type": "markdown",
      "metadata": {
        "id": "gejhpZM4daZt",
        "colab_type": "text"
      },
      "source": [
        "### Importing modules and mounting google drive"
      ]
    },
    {
      "cell_type": "code",
      "metadata": {
        "id": "jKNdhMaLdN-Y",
        "colab_type": "code",
        "colab": {}
      },
      "source": [
        "import cv2\n",
        "import numpy as np\n",
        "from google.colab.patches import cv2_imshow\n",
        "from skimage.morphology import diamond"
      ],
      "execution_count": 0,
      "outputs": []
    },
    {
      "cell_type": "markdown",
      "metadata": {
        "id": "3iO-OXy4e_Al",
        "colab_type": "text"
      },
      "source": [
        "### Structuring elements (kernels) of different sizes\n"
      ]
    },
    {
      "cell_type": "code",
      "metadata": {
        "id": "ZfxmwZhJe-Rm",
        "colab_type": "code",
        "outputId": "ea8b3776-5ac8-4996-e0fc-528087302f34",
        "colab": {
          "base_uri": "https://localhost:8080/",
          "height": 262
        }
      },
      "source": [
        "\"\"\"\n",
        "    cv2 getStructuringElement() can generate kernels of structuring elements\n",
        "        cv2.MORPH_RECT = rectangle\n",
        "        cv2.MORPH_ELLIPSE = ellipse\n",
        "        cv2.MORPH_CROSS = cross (x)\n",
        "\n",
        "\"\"\"\n",
        "#arrays to store kernels of size 3x3,4x4,5x5\n",
        "rectangleKernels = []\n",
        "ellipseKernels = []\n",
        "crossKernels = []\n",
        "\n",
        "for i in [2,3,4,5]:\n",
        "    #rectangle structuring elements\n",
        "    rectangleKernels.append( cv2.getStructuringElement( cv2.MORPH_RECT, (i,i)) )\n",
        "    #ellipse structuring elements\n",
        "    ellipseKernels.append( cv2.getStructuringElement(cv2.MORPH_ELLIPSE, (i,i)) )\n",
        "    #cross structuring elements\n",
        "    crossKernels.append( cv2.getStructuringElement(cv2.MORPH_CROSS, (i,i)) )\n",
        "\n",
        "print(\"Rectangle kernel 4x4:\\n\", np.matrix(rectangleKernels[1]))\n",
        "print(\"\\nEllipse kernel 4x4:\\n\", np.matrix(ellipseKernels[1]))\n",
        "print(\"\\nCross Kernel 4x4:\\n\", np.matrix(crossKernels[1]))\n",
        "\n",
        "#the kernel arrays are data type = uint8"
      ],
      "execution_count": 0,
      "outputs": [
        {
          "output_type": "stream",
          "text": [
            "Rectangle kernel 4x4:\n",
            " [[1 1 1]\n",
            " [1 1 1]\n",
            " [1 1 1]]\n",
            "\n",
            "Ellipse kernel 4x4:\n",
            " [[0 1 0]\n",
            " [1 1 1]\n",
            " [0 1 0]]\n",
            "\n",
            "Cross Kernel 4x4:\n",
            " [[0 1 0]\n",
            " [1 1 1]\n",
            " [0 1 0]]\n"
          ],
          "name": "stdout"
        }
      ]
    },
    {
      "cell_type": "markdown",
      "metadata": {
        "id": "iaHcMiuddp6I",
        "colab_type": "text"
      },
      "source": [
        "\n",
        "# 1: Morphology to remove noise from fingerprint image"
      ]
    },
    {
      "cell_type": "markdown",
      "metadata": {
        "id": "jZOO8q_3dv1K",
        "colab_type": "text"
      },
      "source": [
        "## Reading the original image"
      ]
    },
    {
      "cell_type": "code",
      "metadata": {
        "id": "ygLdIBnTduOx",
        "colab_type": "code",
        "outputId": "36c21173-c38f-46d9-ce2b-5612248bdc51",
        "colab": {
          "base_uri": "https://localhost:8080/",
          "height": 290
        }
      },
      "source": [
        "fingerprint = cv2.imread(\"/content/drive/My Drive/Ramis/Academics/Semester 6/Digital Image Processing/Labs/Lab 10/Lab 10_BSCS7AB/fp.tif\", 0)\n",
        "print(\"Fingerprint image:\\n\")\n",
        "cv2_imshow(fingerprint)"
      ],
      "execution_count": 0,
      "outputs": [
        {
          "output_type": "stream",
          "text": [
            "Fingerprint image:\n",
            "\n"
          ],
          "name": "stdout"
        },
        {
          "output_type": "display_data",
          "data": {
            "image/png": "[encoded data removed]",
            "text/plain": [
              "<PIL.Image.Image image mode=L size=315x238 at 0x7F61A73C1780>"
            ]
          },
          "metadata": {
            "tags": []
          }
        }
      ]
    },
    {
      "cell_type": "markdown",
      "metadata": {
        "id": "Oduiw5tYk1hv",
        "colab_type": "text"
      },
      "source": [
        "## Applying erosion on the fingerprint image"
      ]
    },
    {
      "cell_type": "code",
      "metadata": {
        "id": "i5CeTrWek0y3",
        "colab_type": "code",
        "outputId": "3a52dcc7-8416-4a73-9e23-8e5e1863f6b0",
        "colab": {
          "base_uri": "https://localhost:8080/",
          "height": 35
        }
      },
      "source": [
        "\"\"\"\n",
        "    The objective of the morphological operation is to remove noise from the data\n",
        "    that is at the foreground of the image\n",
        "\n",
        "    The function to be used here:\n",
        "    cv2.erode(img, kernel, iterations)\n",
        "    \n",
        "    For the above fingerprint image with rounded boundaries, ellipse and cross\n",
        "    seem to be suitable structuring elements. I will test both with different kernel sizes\n",
        "\n",
        "    I will store the results of operations with multiple sizes and choose the best\n",
        "\"\"\"\n",
        "\n",
        "#arrays to store the results with kernels of different size\n",
        "erosionsFPEllipse = []\n",
        "erosionsFPCross = []\n",
        "\n",
        "#performing and storing the results of erosion\n",
        "for i in range(4):\n",
        "    erosionsFPEllipse.append( cv2.erode(fingerprint, ellipseKernels[i], iterations = 1) )\n",
        "    erosionsFPCross.append( cv2.erode(fingerprint, crossKernels[i], iterations = 1) )\n",
        "\n",
        "print(\"results stored\")"
      ],
      "execution_count": 0,
      "outputs": [
        {
          "output_type": "stream",
          "text": [
            "results stored\n"
          ],
          "name": "stdout"
        }
      ]
    },
    {
      "cell_type": "markdown",
      "metadata": {
        "id": "aPAsHVHlzHJu",
        "colab_type": "text"
      },
      "source": [
        "## Diplaying the results and choosing the best"
      ]
    },
    {
      "cell_type": "code",
      "metadata": {
        "id": "kariTXUBzHSh",
        "colab_type": "code",
        "outputId": "130100db-35e0-4197-c988-ffd4247d1099",
        "colab": {
          "base_uri": "https://localhost:8080/",
          "height": 1000
        }
      },
      "source": [
        "#printing the resulting images\n",
        "for i in range(4):\n",
        "    print(\"\\nEllipse #\"+str(i + 1),\":\\n\")\n",
        "    cv2_imshow(erosionsFPEllipse[i])\n",
        "\n",
        "    print(\"\\nCross #\"+str(i + 1),\":\\n\")\n",
        "    cv2_imshow(erosionsFPCross[i])"
      ],
      "execution_count": 0,
      "outputs": [
        {
          "output_type": "stream",
          "text": [
            "\n",
            "Ellipse #1 :\n",
            "\n"
          ],
          "name": "stdout"
        },
        {
          "output_type": "display_data",
          "data": {
            "image/png": "[encoded data removed]",
            "text/plain": [
              "<PIL.Image.Image image mode=L size=315x238 at 0x7F61A6FF3128>"
            ]
          },
          "metadata": {
            "tags": []
          }
        },
        {
          "output_type": "stream",
          "text": [
            "\n",
            "Cross #1 :\n",
            "\n"
          ],
          "name": "stdout"
        },
        {
          "output_type": "display_data",
          "data": {
            "image/png": "[encoded data removed]",
            "text/plain": [
              "<PIL.Image.Image image mode=L size=315x238 at 0x7F61A6FF3198>"
            ]
          },
          "metadata": {
            "tags": []
          }
        },
        {
          "output_type": "stream",
          "text": [
            "\n",
            "Ellipse #2 :\n",
            "\n"
          ],
          "name": "stdout"
        },
        {
          "output_type": "display_data",
          "data": {
            "image/png": "[encoded data removed]",
            "text/plain": [
              "<PIL.Image.Image image mode=L size=315x238 at 0x7F61A6FF3128>"
            ]
          },
          "metadata": {
            "tags": []
          }
        },
        {
          "output_type": "stream",
          "text": [
            "\n",
            "Cross #2 :\n",
            "\n"
          ],
          "name": "stdout"
        },
        {
          "output_type": "display_data",
          "data": {
            "image/png": "[encoded data removed]",
            "text/plain": [
              "<PIL.Image.Image image mode=L size=315x238 at 0x7F61A6FF3198>"
            ]
          },
          "metadata": {
            "tags": []
          }
        },
        {
          "output_type": "stream",
          "text": [
            "\n",
            "Ellipse #3 :\n",
            "\n"
          ],
          "name": "stdout"
        },
        {
          "output_type": "display_data",
          "data": {
            "image/png": "[encoded data removed]",
            "text/plain": [
              "<PIL.Image.Image image mode=L size=315x238 at 0x7F61A6FF3128>"
            ]
          },
          "metadata": {
            "tags": []
          }
        },
        {
          "output_type": "stream",
          "text": [
            "\n",
            "Cross #3 :\n",
            "\n"
          ],
          "name": "stdout"
        },
        {
          "output_type": "display_data",
          "data": {
            "image/png": "[encoded data removed]",
            "text/plain": [
              "<PIL.Image.Image image mode=L size=315x238 at 0x7F61A6FF3198>"
            ]
          },
          "metadata": {
            "tags": []
          }
        },
        {
          "output_type": "stream",
          "text": [
            "\n",
            "Ellipse #4 :\n",
            "\n"
          ],
          "name": "stdout"
        },
        {
          "output_type": "display_data",
          "data": {
            "image/png": "[encoded data removed]",
            "text/plain": [
              "<PIL.Image.Image image mode=L size=315x238 at 0x7F61A6FF3160>"
            ]
          },
          "metadata": {
            "tags": []
          }
        },
        {
          "output_type": "stream",
          "text": [
            "\n",
            "Cross #4 :\n",
            "\n"
          ],
          "name": "stdout"
        },
        {
          "output_type": "display_data",
          "data": {
            "image/png": "[encoded data removed]",
            "text/plain": [
              "<PIL.Image.Image image mode=L size=315x238 at 0x7F61A6FF3198>"
            ]
          },
          "metadata": {
            "tags": []
          }
        }
      ]
    },
    {
      "cell_type": "markdown",
      "metadata": {
        "id": "8J-rwvcizwl9",
        "colab_type": "text"
      },
      "source": [
        "There are more iterations in the convolution of a smaller kernel and therefore it is apparent that the smaller 3x3 kernel has the most effective noise removal results. A kernel smaller than 3x3 can be be inaccurate and computationally expensive as well. Hence, 3x3 is the best kernel size for the above fingerprint image.\n",
        "\n",
        "Ellipse and cross structuring objects have almost the same noise removal effectiveness but when in thorough visual comparison, there are few, tiny holes observed in the edges of the cross eroded fingerprint image. Hence, ellipse is chosen best to avoid minor loss of data.\n",
        "\n",
        "**Best chosen: Ellipse 3x3**\n",
        "\n"
      ]
    },
    {
      "cell_type": "markdown",
      "metadata": {
        "id": "nOZvtl4z1DpW",
        "colab_type": "text"
      },
      "source": [
        "---\n",
        "# 2: Morphology to fill broken text"
      ]
    },
    {
      "cell_type": "markdown",
      "metadata": {
        "id": "GvAdrFJJ2TAF",
        "colab_type": "text"
      },
      "source": [
        "## Reading the original image"
      ]
    },
    {
      "cell_type": "code",
      "metadata": {
        "id": "tj3TNtgr1uOv",
        "colab_type": "code",
        "outputId": "a0a743ab-4df4-4b8c-ab01-7aec97fc6338",
        "colab": {
          "base_uri": "https://localhost:8080/",
          "height": 496
        }
      },
      "source": [
        "brokenText = cv2.imread(\"/content/drive/My Drive/Ramis/Academics/Semester 6/Digital Image Processing/Labs/Lab 10/Lab 10_BSCS7AB/broken_text.tif\", 0)\n",
        "print(\"Broken Text:\\n\")\n",
        "cv2_imshow(brokenText)"
      ],
      "execution_count": 0,
      "outputs": [
        {
          "output_type": "stream",
          "text": [
            "Broken Text:\n",
            "\n"
          ],
          "name": "stdout"
        },
        {
          "output_type": "display_data",
          "data": {
            "image/png": "[encoded data removed]",
            "text/plain": [
              "<PIL.Image.Image image mode=L size=508x444 at 0x7F61A7038128>"
            ]
          },
          "metadata": {
            "tags": []
          }
        }
      ]
    },
    {
      "cell_type": "markdown",
      "metadata": {
        "id": "Fx-T3NOQ4XwN",
        "colab_type": "text"
      },
      "source": [
        "## Applying dilation on the broken text image"
      ]
    },
    {
      "cell_type": "code",
      "metadata": {
        "id": "3y9e1HEx5eIS",
        "colab_type": "code",
        "outputId": "c600ce85-38a3-4981-813a-dc6c28cea0d6",
        "colab": {
          "base_uri": "https://localhost:8080/",
          "height": 35
        }
      },
      "source": [
        "\"\"\"\n",
        "    The objective of the morphological operation is to remove the holes/breakages\n",
        "    obsevrved within the characters/alphabets of the text\n",
        "\n",
        "    The fucntion to be used here is:\n",
        "    cv2.dilate(image, kernel, iterations)\n",
        "\n",
        "    For the above broken text image, the rectangle for the block-style text \n",
        "    and ellipse element seem suitable. I will test both.\n",
        "\n",
        "    Again, I will store the results of operations with different objects and sizes\n",
        "    and choose the best\n",
        "\"\"\"\n",
        "\n",
        "#arrays to store the results with kernels of different size\n",
        "dilationsBTRectangle = []\n",
        "dilationsBTEllipse = []\n",
        "\n",
        "#performing and storing the results of dilations\n",
        "for i in range(4):\n",
        "    dilationsBTRectangle.append( cv2.dilate(brokenText, rectangleKernels[i], iterations = 1) )\n",
        "    dilationsBTEllipse.append( cv2.dilate(brokenText, ellipseKernels[i], iterations = 1) )\n",
        "\n",
        "print(\"results stored\")"
      ],
      "execution_count": 0,
      "outputs": [
        {
          "output_type": "stream",
          "text": [
            "results stored\n"
          ],
          "name": "stdout"
        }
      ]
    },
    {
      "cell_type": "markdown",
      "metadata": {
        "id": "USVn66iL7lI9",
        "colab_type": "text"
      },
      "source": [
        "## Displaying the results"
      ]
    },
    {
      "cell_type": "code",
      "metadata": {
        "id": "wgCa6lWr7pP5",
        "colab_type": "code",
        "outputId": "2ff460fc-9322-4b69-cbe0-427ccc13e38b",
        "colab": {
          "base_uri": "https://localhost:8080/",
          "height": 1000
        }
      },
      "source": [
        "#printing the resulting images\n",
        "for i in range(4):\n",
        "    print(\"\\nRectangle #\"+str(i + 1),\":\\n\")\n",
        "    cv2_imshow(dilationsBTRectangle[i])\n",
        "\n",
        "    print(\"\\nEllipse #\"+str(i + 1),\":\\n\")\n",
        "    cv2_imshow(dilationsBTEllipse[i])"
      ],
      "execution_count": 0,
      "outputs": [
        {
          "output_type": "stream",
          "text": [
            "\n",
            "Rectangle #1 :\n",
            "\n"
          ],
          "name": "stdout"
        },
        {
          "output_type": "display_data",
          "data": {
            "image/png": "[encoded data removed]",
            "text/plain": [
              "<PIL.Image.Image image mode=L size=508x444 at 0x7F61A7000470>"
            ]
          },
          "metadata": {
            "tags": []
          }
        },
        {
          "output_type": "stream",
          "text": [
            "\n",
            "Ellipse #1 :\n",
            "\n"
          ],
          "name": "stdout"
        },
        {
          "output_type": "display_data",
          "data": {
            "image/png": "[encoded data removed]",
            "text/plain": [
              "<PIL.Image.Image image mode=L size=508x444 at 0x7F61A70000F0>"
            ]
          },
          "metadata": {
            "tags": []
          }
        },
        {
          "output_type": "stream",
          "text": [
            "\n",
            "Rectangle #2 :\n",
            "\n"
          ],
          "name": "stdout"
        },
        {
          "output_type": "display_data",
          "data": {
            "image/png": "[encoded data removed]",
            "text/plain": [
              "<PIL.Image.Image image mode=L size=508x444 at 0x7F61A7000470>"
            ]
          },
          "metadata": {
            "tags": []
          }
        },
        {
          "output_type": "stream",
          "text": [
            "\n",
            "Ellipse #2 :\n",
            "\n"
          ],
          "name": "stdout"
        },
        {
          "output_type": "display_data",
          "data": {
            "image/png": "[encoded data removed]",
            "text/plain": [
              "<PIL.Image.Image image mode=L size=508x444 at 0x7F61A70000F0>"
            ]
          },
          "metadata": {
            "tags": []
          }
        },
        {
          "output_type": "stream",
          "text": [
            "\n",
            "Rectangle #3 :\n",
            "\n"
          ],
          "name": "stdout"
        },
        {
          "output_type": "display_data",
          "data": {
            "image/png": "[encoded data removed]",
            "text/plain": [
              "<PIL.Image.Image image mode=L size=508x444 at 0x7F61A7000470>"
            ]
          },
          "metadata": {
            "tags": []
          }
        },
        {
          "output_type": "stream",
          "text": [
            "\n",
            "Ellipse #3 :\n",
            "\n"
          ],
          "name": "stdout"
        },
        {
          "output_type": "display_data",
          "data": {
            "image/png": "[encoded data removed]",
            "text/plain": [
              "<PIL.Image.Image image mode=L size=508x444 at 0x7F61A70000F0>"
            ]
          },
          "metadata": {
            "tags": []
          }
        },
        {
          "output_type": "stream",
          "text": [
            "\n",
            "Rectangle #4 :\n",
            "\n"
          ],
          "name": "stdout"
        },
        {
          "output_type": "display_data",
          "data": {
            "image/png": "[encoded data removed]",
            "text/plain": [
              "<PIL.Image.Image image mode=L size=508x444 at 0x7F61A7000278>"
            ]
          },
          "metadata": {
            "tags": []
          }
        },
        {
          "output_type": "stream",
          "text": [
            "\n",
            "Ellipse #4 :\n",
            "\n"
          ],
          "name": "stdout"
        },
        {
          "output_type": "display_data",
          "data": {
            "image/png": "[encoded data removed]",
            "text/plain": [
              "<PIL.Image.Image image mode=L size=508x444 at 0x7F61A7000470>"
            ]
          },
          "metadata": {
            "tags": []
          }
        }
      ]
    },
    {
      "cell_type": "markdown",
      "metadata": {
        "id": "4klZ76Fo88jw",
        "colab_type": "text"
      },
      "source": [
        "Here, it is observed again that kernel of smaller size was more effective as dilation with kernels of larger size overexpanded the boundaries of the text in the foreground. But kernel 2x2 underperformed again and therefore kernel 3x3 is the best compomise.\n",
        "\n",
        "With respect to the structuring objects, the rectangle 3x3 left fewer breakages undilated than the ellipse 3x3.\n",
        "\n",
        "**Best chosen: Rectangle 3x3**"
      ]
    },
    {
      "cell_type": "markdown",
      "metadata": {
        "id": "wnKuLvTr-WMw",
        "colab_type": "text"
      },
      "source": [
        "# 3: Morphological operations on grayscale image"
      ]
    },
    {
      "cell_type": "markdown",
      "metadata": {
        "id": "i3CFPeq6BCLv",
        "colab_type": "text"
      },
      "source": [
        "## Reading the grayscale image"
      ]
    },
    {
      "cell_type": "code",
      "metadata": {
        "id": "C48fZoJyBBOI",
        "colab_type": "code",
        "outputId": "4a18ccab-d134-42f8-ebd1-3ca46a1e697f",
        "colab": {
          "base_uri": "https://localhost:8080/",
          "height": 552
        }
      },
      "source": [
        "example = cv2.imread(\"/content/drive/My Drive/Ramis/Academics/Semester 6/Digital Image Processing/Labs/Lab 10/Lab 10_BSCS7AB/Fig01.tif\", 0)\n",
        "print(\"Grayscale example image:\\n\")\n",
        "cv2_imshow(example)"
      ],
      "execution_count": 0,
      "outputs": [
        {
          "output_type": "stream",
          "text": [
            "Grayscale example image:\n",
            "\n"
          ],
          "name": "stdout"
        },
        {
          "output_type": "display_data",
          "data": {
            "image/png": "[encoded data removed]",
            "text/plain": [
              "<PIL.Image.Image image mode=L size=500x500 at 0x7F61A6FD6940>"
            ]
          },
          "metadata": {
            "tags": []
          }
        }
      ]
    },
    {
      "cell_type": "markdown",
      "metadata": {
        "id": "lbVB3GRq-07F",
        "colab_type": "text"
      },
      "source": [
        "## Applying dilation and erosion"
      ]
    },
    {
      "cell_type": "code",
      "metadata": {
        "id": "7XD2wzgk-Vif",
        "colab_type": "code",
        "outputId": "697c5570-4a79-445d-f679-63d8fbacb362",
        "colab": {
          "base_uri": "https://localhost:8080/",
          "height": 35
        }
      },
      "source": [
        "\"\"\"\n",
        "    cv2.dilate(image,kernel,iterataions)\n",
        "    cv2.erode(image,kernel,iterations)\n",
        "\n",
        "    For the grayscale image, I will perform dilation and erosion using rectangle,\n",
        "    ellipse and cross structures with kernel size 3x3\n",
        "\"\"\"\n",
        "\n",
        "#arrays to store the results of the dilation and erosion operations\n",
        "dilationGI = []\n",
        "erosionGI = []\n",
        "\n",
        "#storing the results of the dilation operations\n",
        "dilationGI.append( cv2.dilate(example, rectangleKernels[1], iterations = 1) )\n",
        "dilationGI.append( cv2.dilate(example, ellipseKernels[1], iterations = 1) )\n",
        "dilationGI.append( cv2.dilate(example, crossKernels[1], iterations = 1) )\n",
        "\n",
        "#storing the results of the erosion operations\n",
        "erosionGI.append( cv2.erode(example, rectangleKernels[1], iterations = 1) )\n",
        "erosionGI.append( cv2.erode(example, ellipseKernels[1], iterations = 1) )\n",
        "erosionGI.append( cv2.erode(example, crossKernels[1], iterations = 1) )\n",
        "\n",
        "print(\"Results stored\")"
      ],
      "execution_count": 0,
      "outputs": [
        {
          "output_type": "stream",
          "text": [
            "Results stored\n"
          ],
          "name": "stdout"
        }
      ]
    },
    {
      "cell_type": "markdown",
      "metadata": {
        "id": "LjadHxPvDdkF",
        "colab_type": "text"
      },
      "source": [
        "## Displaying the results"
      ]
    },
    {
      "cell_type": "code",
      "metadata": {
        "id": "vmc27QaRDi6k",
        "colab_type": "code",
        "outputId": "8b266a6c-e72e-414d-9bcd-b6dd14145662",
        "colab": {
          "base_uri": "https://localhost:8080/",
          "height": 1000
        }
      },
      "source": [
        "#rectangle\n",
        "print(\"Rectangle\\n\\nDilation:\\n\")\n",
        "cv2_imshow(dilationGI[0])\n",
        "print(\"\\nErosion:\\n\\n\")\n",
        "cv2_imshow(erosionGI[0])\n",
        "\n",
        "#ellipse\n",
        "print(\"\\n\\nEllipse\\n\\nDilation:\\n\")\n",
        "cv2_imshow(dilationGI[1])\n",
        "print(\"\\nErosion:\\n\")\n",
        "cv2_imshow(erosionGI[1])\n",
        "\n",
        "#cross\n",
        "print(\"\\n\\nCross\\n\\nDilation:\\n\")\n",
        "cv2_imshow(dilationGI[2])\n",
        "print(\"\\nErosion:\\n\")\n",
        "cv2_imshow(erosionGI[2])"
      ],
      "execution_count": 0,
      "outputs": [
        {
          "output_type": "stream",
          "text": [
            "Rectangle\n",
            "\n",
            "Dilation:\n",
            "\n"
          ],
          "name": "stdout"
        },
        {
          "output_type": "display_data",
          "data": {
            "image/png": "[encoded data removed]",
            "text/plain": [
              "<PIL.Image.Image image mode=L size=500x500 at 0x7F61A6FF2FD0>"
            ]
          },
          "metadata": {
            "tags": []
          }
        },
        {
          "output_type": "stream",
          "text": [
            "\n",
            "Erosion:\n",
            "\n",
            "\n"
          ],
          "name": "stdout"
        },
        {
          "output_type": "display_data",
          "data": {
            "image/png": "[encoded data removed]",
            "text/plain": [
              "<PIL.Image.Image image mode=L size=500x500 at 0x7F61A6FF2198>"
            ]
          },
          "metadata": {
            "tags": []
          }
        },
        {
          "output_type": "stream",
          "text": [
            "\n",
            "\n",
            "Ellipse\n",
            "\n",
            "Dilation:\n",
            "\n"
          ],
          "name": "stdout"
        },
        {
          "output_type": "display_data",
          "data": {
            "image/png": "[encoded data removed]",
            "text/plain": [
              "<PIL.Image.Image image mode=L size=500x500 at 0x7F61A6FF2B00>"
            ]
          },
          "metadata": {
            "tags": []
          }
        },
        {
          "output_type": "stream",
          "text": [
            "\n",
            "Erosion:\n",
            "\n"
          ],
          "name": "stdout"
        },
        {
          "output_type": "display_data",
          "data": {
            "image/png": "[encoded data removed]",
            "text/plain": [
              "<PIL.Image.Image image mode=L size=500x500 at 0x7F61A6FF2198>"
            ]
          },
          "metadata": {
            "tags": []
          }
        },
        {
          "output_type": "stream",
          "text": [
            "\n",
            "\n",
            "Cross\n",
            "\n",
            "Dilation:\n",
            "\n"
          ],
          "name": "stdout"
        },
        {
          "output_type": "display_data",
          "data": {
            "image/png": "[encoded data removed]",
            "text/plain": [
              "<PIL.Image.Image image mode=L size=500x500 at 0x7F61A6FF2FD0>"
            ]
          },
          "metadata": {
            "tags": []
          }
        },
        {
          "output_type": "stream",
          "text": [
            "\n",
            "Erosion:\n",
            "\n"
          ],
          "name": "stdout"
        },
        {
          "output_type": "display_data",
          "data": {
            "image/png": "[encoded data removed]",
            "text/plain": [
              "<PIL.Image.Image image mode=L size=500x500 at 0x7F61A6FF2828>"
            ]
          },
          "metadata": {
            "tags": []
          }
        }
      ]
    },
    {
      "cell_type": "markdown",
      "metadata": {
        "id": "FOrAV32VIx2r",
        "colab_type": "text"
      },
      "source": [
        "# 4: Morphology to segment objects in an image"
      ]
    },
    {
      "cell_type": "markdown",
      "metadata": {
        "id": "_GGH-jERL2QF",
        "colab_type": "text"
      },
      "source": [
        "## Reading the objects image"
      ]
    },
    {
      "cell_type": "code",
      "metadata": {
        "id": "0wlflS0mKlpI",
        "colab_type": "code",
        "outputId": "7844bf14-3e84-428c-8473-a4a94871c94d",
        "colab": {
          "base_uri": "https://localhost:8080/",
          "height": 321
        }
      },
      "source": [
        "objectsImage = cv2.imread(\"/content/drive/My Drive/Ramis/Academics/Semester 6/Digital Image Processing/Labs/Lab 10/Lab 10_BSCS7AB/Objects.png\", 0)\n",
        "print(\"Objects image:\\n\")\n",
        "cv2_imshow(objectsImage)"
      ],
      "execution_count": 0,
      "outputs": [
        {
          "output_type": "stream",
          "text": [
            "Objects image:\n",
            "\n"
          ],
          "name": "stdout"
        },
        {
          "output_type": "display_data",
          "data": {
            "image/png": "[encoded data removed]",
            "text/plain": [
              "<PIL.Image.Image image mode=L size=443x269 at 0x7F61A73A9080>"
            ]
          },
          "metadata": {
            "tags": []
          }
        }
      ]
    },
    {
      "cell_type": "markdown",
      "metadata": {
        "id": "qK9T11QqfAj0",
        "colab_type": "text"
      },
      "source": [
        "## Methodology\n",
        "\n",
        "The idea here is to use a kernel of a very large size to segment its matching structuring object. cv2 default structuring objects are cross, rectangle and ellipse. I will try morphological opening (erosion then dilation) with different kernel sizes to find the minimum value that segments the required object.\n",
        "\n",
        "Diamond is not a structuring element provided by cv2. I am using skimage.morphology.diamond function returning a diamond element kernel."
      ]
    },
    {
      "cell_type": "code",
      "metadata": {
        "id": "Ey3WmHW_h8nk",
        "colab_type": "code",
        "colab": {}
      },
      "source": [
        "#different kernel sizes\n",
        "sizes = [30,50,70,90]"
      ],
      "execution_count": 0,
      "outputs": []
    },
    {
      "cell_type": "markdown",
      "metadata": {
        "id": "IjX-2hHVZyeb",
        "colab_type": "text"
      },
      "source": [
        "## Segmenting the rectangle"
      ]
    },
    {
      "cell_type": "code",
      "metadata": {
        "id": "BsKPbT_PZxo0",
        "colab_type": "code",
        "outputId": "6271ee96-dc66-44c0-fef5-ab796a7cb383",
        "colab": {
          "base_uri": "https://localhost:8080/",
          "height": 1000
        }
      },
      "source": [
        "#applying rectangle opening operation on the image\n",
        "\n",
        "for i in sizes:\n",
        "    rectangleOpen = cv2.morphologyEx( objectsImage, cv2.MORPH_OPEN, cv2.getStructuringElement(cv2.MORPH_RECT, (i,i)) )\n",
        "    print(\"\\nKernel size\", str(i)+\"x\"+str(i), \":\\n\")\n",
        "    cv2_imshow(rectangleOpen)"
      ],
      "execution_count": 0,
      "outputs": [
        {
          "output_type": "stream",
          "text": [
            "\n",
            "Kernel size 30x30 :\n",
            "\n"
          ],
          "name": "stdout"
        },
        {
          "output_type": "display_data",
          "data": {
            "image/png": "[encoded data removed]",
            "text/plain": [
              "<PIL.Image.Image image mode=L size=443x269 at 0x7F61A72E1A20>"
            ]
          },
          "metadata": {
            "tags": []
          }
        },
        {
          "output_type": "stream",
          "text": [
            "\n",
            "Kernel size 50x50 :\n",
            "\n"
          ],
          "name": "stdout"
        },
        {
          "output_type": "display_data",
          "data": {
            "image/png": "[encoded data removed]",
            "text/plain": [
              "<PIL.Image.Image image mode=L size=443x269 at 0x7F61A72E1160>"
            ]
          },
          "metadata": {
            "tags": []
          }
        },
        {
          "output_type": "stream",
          "text": [
            "\n",
            "Kernel size 70x70 :\n",
            "\n"
          ],
          "name": "stdout"
        },
        {
          "output_type": "display_data",
          "data": {
            "image/png": "[encoded data removed]",
            "text/plain": [
              "<PIL.Image.Image image mode=L size=443x269 at 0x7F61A72E1B00>"
            ]
          },
          "metadata": {
            "tags": []
          }
        },
        {
          "output_type": "stream",
          "text": [
            "\n",
            "Kernel size 90x90 :\n",
            "\n"
          ],
          "name": "stdout"
        },
        {
          "output_type": "display_data",
          "data": {
            "image/png": "[encoded data removed]",
            "text/plain": [
              "<PIL.Image.Image image mode=L size=443x269 at 0x7F61A72E1F28>"
            ]
          },
          "metadata": {
            "tags": []
          }
        }
      ]
    },
    {
      "cell_type": "markdown",
      "metadata": {
        "id": "cTH4wS5Pgr5b",
        "colab_type": "text"
      },
      "source": [
        "## Segmenting the disc"
      ]
    },
    {
      "cell_type": "code",
      "metadata": {
        "id": "pdU_vSFzgrGu",
        "colab_type": "code",
        "outputId": "78f47c07-a755-4555-d3a3-7af0502721a4",
        "colab": {
          "base_uri": "https://localhost:8080/",
          "height": 1000
        }
      },
      "source": [
        "#applying ellipse opening operation on the image\n",
        "\n",
        "for i in sizes:\n",
        "    ellipseOpen = cv2.morphologyEx( objectsImage, cv2.MORPH_OPEN, cv2.getStructuringElement(cv2.MORPH_ELLIPSE, (i,i)) )\n",
        "    print(\"\\nKernel size\", str(i)+\"x\"+str(i), \":\\n\")\n",
        "    cv2_imshow(ellipseOpen)"
      ],
      "execution_count": 0,
      "outputs": [
        {
          "output_type": "stream",
          "text": [
            "\n",
            "Kernel size 30x30 :\n",
            "\n"
          ],
          "name": "stdout"
        },
        {
          "output_type": "display_data",
          "data": {
            "image/png": "[encoded data removed]",
            "text/plain": [
              "<PIL.Image.Image image mode=L size=443x269 at 0x7F61A71C2710>"
            ]
          },
          "metadata": {
            "tags": []
          }
        },
        {
          "output_type": "stream",
          "text": [
            "\n",
            "Kernel size 50x50 :\n",
            "\n"
          ],
          "name": "stdout"
        },
        {
          "output_type": "display_data",
          "data": {
            "image/png": "[encoded data removed]",
            "text/plain": [
              "<PIL.Image.Image image mode=L size=443x269 at 0x7F61A71C2748>"
            ]
          },
          "metadata": {
            "tags": []
          }
        },
        {
          "output_type": "stream",
          "text": [
            "\n",
            "Kernel size 70x70 :\n",
            "\n"
          ],
          "name": "stdout"
        },
        {
          "output_type": "display_data",
          "data": {
            "image/png": "[encoded data removed]",
            "text/plain": [
              "<PIL.Image.Image image mode=L size=443x269 at 0x7F61A71C26D8>"
            ]
          },
          "metadata": {
            "tags": []
          }
        },
        {
          "output_type": "stream",
          "text": [
            "\n",
            "Kernel size 90x90 :\n",
            "\n"
          ],
          "name": "stdout"
        },
        {
          "output_type": "display_data",
          "data": {
            "image/png": "[encoded data removed]",
            "text/plain": [
              "<PIL.Image.Image image mode=L size=443x269 at 0x7F61A71C2860>"
            ]
          },
          "metadata": {
            "tags": []
          }
        }
      ]
    },
    {
      "cell_type": "markdown",
      "metadata": {
        "id": "6pAMWTYYiG_w",
        "colab_type": "text"
      },
      "source": [
        "## Segmenting the diamond"
      ]
    },
    {
      "cell_type": "code",
      "metadata": {
        "id": "5meRfRo1iGGP",
        "colab_type": "code",
        "outputId": "541ba70c-555f-4650-d9f1-969ef7acc5a4",
        "colab": {
          "base_uri": "https://localhost:8080/",
          "height": 1000
        }
      },
      "source": [
        "\"\"\"\n",
        "    cv2 does not have a built-in disc structuring element property or function.\n",
        "    For disc, the skimage.morphology library provides the disc kernel function,\n",
        "        skimage.morphology.diamond(radius, dtype='numpy.uint8') \n",
        "\"\"\"\n",
        "\n",
        "#different sizes tried for diamond as it is smaller and from another module\n",
        "sizes = [20,30,40,50]\n",
        "\n",
        "for i in sizes:\n",
        "    #skimage.morphology.diamond(radius,dtype)\n",
        "    kernel = diamond(i, dtype=\"uint8\")\n",
        "    diamondOpen = cv2.morphologyEx( objectsImage, cv2.MORPH_OPEN, kernel)\n",
        "    print(\"\\nKernel size\", str(i)+\"x\"+str(i), \":\\n\")\n",
        "    cv2_imshow(diamondOpen)"
      ],
      "execution_count": 0,
      "outputs": [
        {
          "output_type": "stream",
          "text": [
            "\n",
            "Kernel size 20x20 :\n",
            "\n"
          ],
          "name": "stdout"
        },
        {
          "output_type": "display_data",
          "data": {
            "image/png": "[encoded data removed]",
            "text/plain": [
              "<PIL.Image.Image image mode=L size=443x269 at 0x7F6196E95D68>"
            ]
          },
          "metadata": {
            "tags": []
          }
        },
        {
          "output_type": "stream",
          "text": [
            "\n",
            "Kernel size 30x30 :\n",
            "\n"
          ],
          "name": "stdout"
        },
        {
          "output_type": "display_data",
          "data": {
            "image/png": "[encoded data removed]",
            "text/plain": [
              "<PIL.Image.Image image mode=L size=443x269 at 0x7F6196E95CC0>"
            ]
          },
          "metadata": {
            "tags": []
          }
        },
        {
          "output_type": "stream",
          "text": [
            "\n",
            "Kernel size 40x40 :\n",
            "\n"
          ],
          "name": "stdout"
        },
        {
          "output_type": "display_data",
          "data": {
            "image/png": "[encoded data removed]",
            "text/plain": [
              "<PIL.Image.Image image mode=L size=443x269 at 0x7F6196E95C50>"
            ]
          },
          "metadata": {
            "tags": []
          }
        },
        {
          "output_type": "stream",
          "text": [
            "\n",
            "Kernel size 50x50 :\n",
            "\n"
          ],
          "name": "stdout"
        },
        {
          "output_type": "display_data",
          "data": {
            "image/png": "[encoded data removed]",
            "text/plain": [
              "<PIL.Image.Image image mode=L size=443x269 at 0x7F6196E95CC0>"
            ]
          },
          "metadata": {
            "tags": []
          }
        }
      ]
    }
  ]
}